{
 "cells": [
  {
   "cell_type": "code",
   "execution_count": 1,
   "id": "5fd88243",
   "metadata": {},
   "outputs": [
    {
     "name": "stderr",
     "output_type": "stream",
     "text": [
      "c:\\Users\\gkiet\\anaconda3\\envs\\base_310\\lib\\site-packages\\tqdm\\auto.py:21: TqdmWarning: IProgress not found. Please update jupyter and ipywidgets. See https://ipywidgets.readthedocs.io/en/stable/user_install.html\n",
      "  from .autonotebook import tqdm as notebook_tqdm\n"
     ]
    }
   ],
   "source": [
    "from functools import lru_cache\n",
    "from transformers import AutoTokenizer\n",
    "\n",
    "@lru_cache\n",
    "def _load_tokenizer(model_id: str):\n",
    "    \"\"\"\n",
    "    Load and cache the correct tokenizer for each model.\n",
    "    Qwen needs trust_remote_code=True, Phi-4 thì không.\n",
    "    \"\"\"\n",
    "    kwargs = {\"trust_remote_code\": True} if model_id.startswith(\"Qwen/\") else {}\n",
    "    return AutoTokenizer.from_pretrained(model_id, **kwargs)\n",
    "\n",
    "def count_tokens(prompt: str, model_id: str) -> int:\n",
    "    tok = _load_tokenizer(model_id)\n",
    "    return len(tok(prompt, add_special_tokens=False).input_ids)\n"
   ]
  },
  {
   "cell_type": "code",
   "execution_count": 3,
   "id": "8869b5fb",
   "metadata": {},
   "outputs": [
    {
     "data": {
      "text/plain": [
       "8"
      ]
     },
     "execution_count": 3,
     "metadata": {},
     "output_type": "execute_result"
    }
   ],
   "source": [
    "prompt = \"SELECT * FROM users LIMIT 5;\"\n",
    "count_tokens(prompt, \"microsoft/phi-4\")"
   ]
  }
 ],
 "metadata": {
  "kernelspec": {
   "display_name": "base_310",
   "language": "python",
   "name": "python3"
  },
  "language_info": {
   "codemirror_mode": {
    "name": "ipython",
    "version": 3
   },
   "file_extension": ".py",
   "mimetype": "text/x-python",
   "name": "python",
   "nbconvert_exporter": "python",
   "pygments_lexer": "ipython3",
   "version": "3.10.16"
  }
 },
 "nbformat": 4,
 "nbformat_minor": 5
}
